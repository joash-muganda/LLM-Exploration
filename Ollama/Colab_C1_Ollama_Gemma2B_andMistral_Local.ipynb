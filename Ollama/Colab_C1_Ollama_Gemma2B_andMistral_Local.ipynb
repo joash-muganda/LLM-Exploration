{
  "nbformat": 4,
  "nbformat_minor": 0,
  "metadata": {
    "colab": {
      "provenance": []
    },
    "kernelspec": {
      "name": "python3",
      "display_name": "Python 3"
    },
    "language_info": {
      "name": "python"
    }
  },
  "cells": [
    {
      "cell_type": "markdown",
      "source": [
        "# **Ollama**\n",
        "\n",
        "## **Objective:**\n",
        "Demonstrate the installation and operation of the Ollama framework with the Gemma-2B and Mistral models on a local machine.\n",
        "\n",
        "---\n",
        "\n",
        "## **1. Installing Ollama**\n",
        "\n",
        "Begin by downloading and installing the Ollama framework, which enables local execution of large language models (LLMs).\n",
        "\n",
        "### **Installation Steps:**\n",
        "1. Download the Ollama installer from [Ollama's official website](https://ollama.com/).\n",
        "2. Execute the downloaded installer and follow the on-screen instructions to complete the installation.\n",
        "\n",
        "### **Verify Installation:**\n",
        "Check the installation by running the following command in your terminal:\n",
        "\n",
        "```bash\n",
        "ollama --version\n"
      ],
      "metadata": {
        "id": "6atsz9WP4h0g"
      }
    },
    {
      "cell_type": "markdown",
      "source": [
        "Example Output:"
      ],
      "metadata": {
        "id": "AbXwgQTw5GgY"
      }
    },
    {
      "cell_type": "markdown",
      "source": [
        "ollama version is 0.3.11\n"
      ],
      "metadata": {
        "id": "qQ8iwuG_4oCM"
      }
    },
    {
      "cell_type": "markdown",
      "source": [
        "## **2. Pull the Mistral Model**\n",
        "Once Ollama is installed, you can pull the Mistral model and run it on your local machine.\n",
        "\n",
        "Run the following command to pull the model:"
      ],
      "metadata": {
        "id": "IgqlFqHu4wiJ"
      }
    },
    {
      "cell_type": "markdown",
      "source": [
        "ollama pull mistral\n"
      ],
      "metadata": {
        "id": "Ei6iaHBY46hP"
      }
    },
    {
      "cell_type": "markdown",
      "source": [
        "Example Output:"
      ],
      "metadata": {
        "id": "vGtoa7vL5Ug8"
      }
    },
    {
      "cell_type": "markdown",
      "source": [
        "pulling manifest\n",
        "pulling ff82381e2bea... 100% ▕████████████████████████████████████████████████████████▏ 4.1 GB\n",
        "pulling 43070e2d4e53... 100% ▕████████████████████████████████████████████████████████▏  11 KB\n",
        "pulling 491dfa501e59... 100% ▕████████████████████████████████████████████████████████▏  801 B\n",
        "verifying sha256 digest\n",
        "writing manifest\n",
        "success\n"
      ],
      "metadata": {
        "id": "ukk6Hq9J4_X5"
      }
    },
    {
      "cell_type": "markdown",
      "source": [
        "## **3. Running the Mistral Model**\n",
        "Once the Mistral model is pulled, you can interact with it using the ollama run command.\n",
        "\n",
        "For example:"
      ],
      "metadata": {
        "id": "u86JrbMm5NeR"
      }
    },
    {
      "cell_type": "markdown",
      "source": [
        "ollama run mistral\n"
      ],
      "metadata": {
        "id": "1KP2aFmi50BI"
      }
    },
    {
      "cell_type": "markdown",
      "source": [
        "You can ask questions like:"
      ],
      "metadata": {
        "id": "DIbFZOZY6DKQ"
      }
    },
    {
      "cell_type": "markdown",
      "source": [
        ">>> what's the capital of kenya?\n"
      ],
      "metadata": {
        "id": "B1mFJVvD6GFa"
      }
    },
    {
      "cell_type": "markdown",
      "source": [
        "Example Output:"
      ],
      "metadata": {
        "id": "ZunDrb5Z6MIR"
      }
    },
    {
      "cell_type": "markdown",
      "source": [
        "The capital city of Kenya is Nairobi. It's one of the largest cities in Africa and a major hub for politics, finance, and culture in East Africa.\n"
      ],
      "metadata": {
        "id": "pV9j-3lY6P5S"
      }
    },
    {
      "cell_type": "markdown",
      "source": [
        "## **4. Running Gemma2:2B Model**\n",
        "You can also run the Gemma-2B model. Since ollama pull gemma-2b did not work, we successfully pulled and ran the model with the following command:"
      ],
      "metadata": {
        "id": "1xJTsdrZ6XYB"
      }
    },
    {
      "cell_type": "markdown",
      "source": [
        "ollama run gemma2:2b\n"
      ],
      "metadata": {
        "id": "zApVWSVa6eDu"
      }
    },
    {
      "cell_type": "markdown",
      "source": [
        "**Example Output (Java Code Generation):**"
      ],
      "metadata": {
        "id": "AgN6cApF6kwc"
      }
    },
    {
      "cell_type": "markdown",
      "source": [
        ">>> write code to implement doubly linked list from scratch. use Java\n"
      ],
      "metadata": {
        "id": "e5cAoXvp6sdd"
      }
    },
    {
      "cell_type": "markdown",
      "source": [
        "**Generated Java Code:**"
      ],
      "metadata": {
        "id": "uqIMhoBr6xL9"
      }
    },
    {
      "cell_type": "markdown",
      "source": [
        "public class DoublyLinkedList<T> {\n",
        "    private Node head;\n",
        "    private Node tail;\n",
        "    private int size;\n",
        "\n",
        "    private static class Node {\n",
        "        T data;\n",
        "        Node prev;\n",
        "        Node next;\n",
        "\n",
        "        Node(T data) {\n",
        "            this.data = data;\n",
        "            this.prev = null;\n",
        "            this.next = null;\n",
        "        }\n",
        "    }\n",
        "\n",
        "    public DoublyLinkedList() {\n",
        "        this.head = null;\n",
        "        this.tail = null;\n",
        "        this.size = 0;\n",
        "    }\n",
        "\n",
        "    public void add(T data) {\n",
        "        Node newNode = new Node(data);\n",
        "\n",
        "        if (isEmpty()) {\n",
        "            head = newNode;\n",
        "            tail = newNode;\n",
        "        } else {\n",
        "            tail.next = newNode;\n",
        "            newNode.prev = tail;\n",
        "            tail = newNode;\n",
        "        }\n",
        "        size++;\n",
        "    }\n",
        "\n",
        "    public void addAt(T data, int index) {\n",
        "        if (index < 0 || index > size) {\n",
        "            throw new IndexOutOfBoundsException(\"Index out of bounds\");\n",
        "        }\n",
        "\n",
        "        Node newNode = new Node(data);\n",
        "\n",
        "        if (isEmpty()) {\n",
        "            head = newNode;\n",
        "            tail = newNode;\n",
        "        } else if (index == 0) {\n",
        "            newNode.next = head;\n",
        "            head.prev = newNode;\n",
        "            head = newNode;\n",
        "        } else {\n",
        "            Node current = head;\n",
        "            for (int i = 1; i < index && current != null; i++) {\n",
        "                current = current.next;\n",
        "            }\n",
        "            newNode.next = current.next;\n",
        "            current.next.prev = newNode;\n",
        "            newNode.prev = current;\n",
        "        }\n",
        "\n",
        "        size++;\n",
        "    }\n",
        "\n",
        "    public void removeAt(int index) {\n",
        "        if (isEmpty()) {\n",
        "            throw new IndexOutOfBoundsException(\"List is empty\");\n",
        "        }\n",
        "\n",
        "        if (index == 0) {\n",
        "            head = head.next;\n",
        "            if (head != null) {\n",
        "                head.prev = null;\n",
        "            }\n",
        "        } else {\n",
        "            Node current = head;\n",
        "            for (int i = 1; i < index && current != null; i++) {\n",
        "                current = current.next;\n",
        "            }\n",
        "\n",
        "            current.next.prev = current.prev; // Adjust previous pointer\n",
        "            if (current.next != null) {\n",
        "                current.next.prev = null;\n",
        "            }\n",
        "        }\n",
        "        size--;\n",
        "    }\n",
        "\n",
        "    public void printList() {\n",
        "        Node current = head;\n",
        "        while (current != null) {\n",
        "            System.out.print(current.data + \" \");\n",
        "            current = current.next;\n",
        "        }\n",
        "        System.out.println();\n",
        "    }\n",
        "\n",
        "    public boolean isEmpty() {\n",
        "        return size == 0;\n",
        "    }\n",
        "\n",
        "    public int getSize() {\n",
        "        return size;\n",
        "    }\n",
        "\n",
        "    public static void main(String[] args) {\n",
        "        DoublyLinkedList<Integer> list = new DoublyLinkedList<>();\n",
        "\n",
        "        list.add(1);\n",
        "        list.addAt(2, 1);\n",
        "        list.add(3);\n",
        "        list.removeAt(1);\n",
        "\n",
        "        System.out.println(\"List: \");\n",
        "        list.printList(); // Expected output: 1 3\n",
        "    }\n",
        "}\n"
      ],
      "metadata": {
        "id": "p7w0yAph68SX"
      }
    },
    {
      "cell_type": "markdown",
      "source": [
        "# **Conclusion**\n",
        "This notebook demonstrates the installation of Ollama, pulling and running models such as Mistral and Gemma-2B, and generating code using the Gemma-2B model. You can further explore other models or expand tasks by interacting with these models."
      ],
      "metadata": {
        "id": "XX_edwII7FWX"
      }
    }
  ]
}